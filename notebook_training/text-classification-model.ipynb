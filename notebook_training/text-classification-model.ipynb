{
 "cells": [
  {
   "cell_type": "code",
   "execution_count": 1,
   "id": "f68ba248-26fe-416f-9ae1-1ac3e75ff34d",
   "metadata": {
    "collapsed": true,
    "jupyter": {
     "outputs_hidden": true
    },
    "tags": []
   },
   "outputs": [
    {
     "name": "stdout",
     "output_type": "stream",
     "text": [
      "Package                      Version\n",
      "---------------------------- -----------\n",
      "absl-py                      2.1.0\n",
      "anyio                        4.2.0\n",
      "argon2-cffi                  21.3.0\n",
      "argon2-cffi-bindings         21.2.0\n",
      "asttokens                    2.0.5\n",
      "astunparse                   1.6.3\n",
      "async-lru                    2.0.4\n",
      "attrs                        23.1.0\n",
      "Babel                        2.11.0\n",
      "backcall                     0.2.0\n",
      "beautifulsoup4               4.12.2\n",
      "bleach                       4.1.0\n",
      "Brotli                       1.0.9\n",
      "cachetools                   5.3.3\n",
      "certifi                      2024.2.2\n",
      "cffi                         1.16.0\n",
      "charset-normalizer           3.3.2\n",
      "comm                         0.2.1\n",
      "contourpy                    1.2.1\n",
      "cycler                       0.12.1\n",
      "debugpy                      1.6.7\n",
      "decorator                    5.1.1\n",
      "defusedxml                   0.7.1\n",
      "exceptiongroup               1.2.0\n",
      "executing                    0.8.3\n",
      "fastjsonschema               2.16.2\n",
      "filelock                     3.14.0\n",
      "flatbuffers                  1.12\n",
      "fonttools                    4.52.4\n",
      "fsspec                       2024.5.0\n",
      "gast                         0.4.0\n",
      "google-auth                  2.29.0\n",
      "google-auth-oauthlib         0.4.6\n",
      "google-pasta                 0.2.0\n",
      "grpcio                       1.64.0\n",
      "h5py                         3.11.0\n",
      "huggingface-hub              0.23.2\n",
      "idna                         3.7\n",
      "importlib-metadata           7.0.1\n",
      "importlib_resources          6.4.0\n",
      "ipykernel                    6.28.0\n",
      "ipython                      8.15.0\n",
      "ipywidgets                   8.1.2\n",
      "jedi                         0.18.1\n",
      "Jinja2                       3.1.4\n",
      "joblib                       1.4.2\n",
      "json5                        0.9.6\n",
      "jsonschema                   4.19.2\n",
      "jsonschema-specifications    2023.7.1\n",
      "jupyter                      1.0.0\n",
      "jupyter_client               8.6.0\n",
      "jupyter-console              6.6.3\n",
      "jupyter_core                 5.5.0\n",
      "jupyter-events               0.8.0\n",
      "jupyter-lsp                  2.2.0\n",
      "jupyter_server               2.10.0\n",
      "jupyter_server_terminals     0.4.4\n",
      "jupyterlab                   4.0.11\n",
      "jupyterlab-pygments          0.1.2\n",
      "jupyterlab_server            2.25.1\n",
      "jupyterlab-widgets           3.0.10\n",
      "keras                        2.9.0\n",
      "Keras-Preprocessing          1.1.2\n",
      "kiwisolver                   1.4.5\n",
      "libclang                     18.1.1\n",
      "Markdown                     3.6\n",
      "MarkupSafe                   2.1.3\n",
      "matplotlib                   3.9.0\n",
      "matplotlib-inline            0.1.6\n",
      "mistune                      2.0.4\n",
      "nbclient                     0.8.0\n",
      "nbconvert                    7.10.0\n",
      "nbformat                     5.9.2\n",
      "nest-asyncio                 1.6.0\n",
      "notebook                     7.0.8\n",
      "notebook_shim                0.2.3\n",
      "numpy                        1.26.4\n",
      "oauthlib                     3.2.2\n",
      "opt-einsum                   3.3.0\n",
      "overrides                    7.4.0\n",
      "packaging                    23.2\n",
      "pandas                       2.2.2\n",
      "pandocfilters                1.5.0\n",
      "parso                        0.8.3\n",
      "pexpect                      4.8.0\n",
      "pickleshare                  0.7.5\n",
      "pillow                       10.3.0\n",
      "pip                          24.0\n",
      "platformdirs                 3.10.0\n",
      "ply                          3.11\n",
      "prometheus-client            0.14.1\n",
      "prompt-toolkit               3.0.43\n",
      "protobuf                     3.19.6\n",
      "psutil                       5.9.0\n",
      "ptyprocess                   0.7.0\n",
      "pure-eval                    0.2.2\n",
      "pyasn1                       0.6.0\n",
      "pyasn1_modules               0.4.0\n",
      "pycparser                    2.21\n",
      "Pygments                     2.15.1\n",
      "pyparsing                    3.1.2\n",
      "PyQt5                        5.15.10\n",
      "PyQt5-sip                    12.13.0\n",
      "PySocks                      1.7.1\n",
      "python-dateutil              2.9.0.post0\n",
      "python-json-logger           2.0.7\n",
      "pytz                         2024.1\n",
      "PyYAML                       6.0.1\n",
      "pyzmq                        25.1.2\n",
      "qtconsole                    5.5.1\n",
      "QtPy                         2.4.1\n",
      "referencing                  0.30.2\n",
      "regex                        2024.5.15\n",
      "requests                     2.32.3\n",
      "requests-oauthlib            2.0.0\n",
      "rfc3339-validator            0.1.4\n",
      "rfc3986-validator            0.1.1\n",
      "rpds-py                      0.10.6\n",
      "rsa                          4.9\n",
      "safetensors                  0.4.3\n",
      "scikit-learn                 1.5.0\n",
      "scipy                        1.13.1\n",
      "Send2Trash                   1.8.2\n",
      "setuptools                   69.5.1\n",
      "sip                          6.7.12\n",
      "six                          1.16.0\n",
      "sniffio                      1.3.0\n",
      "soupsieve                    2.5\n",
      "stack-data                   0.2.0\n",
      "tensorboard                  2.9.1\n",
      "tensorboard-data-server      0.6.1\n",
      "tensorboard-plugin-wit       1.8.1\n",
      "tensorflow                   2.9.0\n",
      "tensorflow-estimator         2.9.0\n",
      "tensorflow-io-gcs-filesystem 0.37.0\n",
      "termcolor                    2.4.0\n",
      "terminado                    0.17.1\n",
      "threadpoolctl                3.5.0\n",
      "tinycss2                     1.2.1\n",
      "tokenizers                   0.19.1\n",
      "tomli                        2.0.1\n",
      "tornado                      6.3.3\n",
      "tqdm                         4.66.4\n",
      "traitlets                    5.7.1\n",
      "transformers                 4.41.2\n",
      "typing_extensions            4.11.0\n",
      "tzdata                       2024.1\n",
      "urllib3                      2.2.1\n",
      "wcwidth                      0.2.5\n",
      "webencodings                 0.5.1\n",
      "websocket-client             1.8.0\n",
      "Werkzeug                     3.0.3\n",
      "wheel                        0.43.0\n",
      "widgetsnbextension           4.0.10\n",
      "wrapt                        1.16.0\n",
      "zipp                         3.17.0\n",
      "Note: you may need to restart the kernel to use updated packages.\n"
     ]
    }
   ],
   "source": [
    "pip list"
   ]
  },
  {
   "cell_type": "markdown",
   "id": "eb26974b-5480-4516-a3a2-7b48513e51ec",
   "metadata": {},
   "source": [
    "## 1. Importing libraries and Dataset Configuration"
   ]
  },
  {
   "cell_type": "code",
   "execution_count": 28,
   "id": "e1766f43-1940-4363-8146-dc8f62d4476d",
   "metadata": {},
   "outputs": [],
   "source": [
    "import json\n",
    "import tensorflow as tf\n",
    "from tensorflow import keras\n",
    "from tensorflow.keras.preprocessing.text import Tokenizer\n",
    "from tensorflow.keras.preprocessing.sequence import pad_sequences\n",
    "import numpy as np\n",
    "import matplotlib.pyplot as plt\n",
    "import pandas as pd\n",
    "from sklearn.model_selection import train_test_split\n",
    "from sklearn.preprocessing import LabelEncoder\n",
    "from tensorflow.keras.utils import to_categorical\n",
    "from sklearn.metrics import classification_report\n",
    "import re\n",
    "from datetime import datetime, timedelta\n",
    "from collections import defaultdict, deque\n",
    "import pickle"
   ]
  },
  {
   "cell_type": "code",
   "execution_count": 2,
   "id": "9cea2311-8d21-48fe-bd96-66025b03f956",
   "metadata": {},
   "outputs": [
    {
     "name": "stdout",
     "output_type": "stream",
     "text": [
      "gpu  PhysicalDevice(name='/physical_device:GPU:0', device_type='GPU')\n"
     ]
    }
   ],
   "source": [
    "gpus = tf.config.experimental.list_physical_devices('GPU')\n",
    "for gpu in gpus:\n",
    "    print('gpu ', gpu)\n",
    "    tf.config.experimental.set_memory_growth(gpu, True)"
   ]
  },
  {
   "cell_type": "markdown",
   "id": "fd10bc98-3d43-464a-9e6d-83014bf7acbd",
   "metadata": {},
   "source": [
    "#### Dataset Pipelining"
   ]
  },
  {
   "cell_type": "code",
   "execution_count": 10,
   "id": "3effd1fb-846b-4e38-a5cf-bb7ccae4c286",
   "metadata": {},
   "outputs": [
    {
     "data": {
      "text/html": [
       "<div>\n",
       "<style scoped>\n",
       "    .dataframe tbody tr th:only-of-type {\n",
       "        vertical-align: middle;\n",
       "    }\n",
       "\n",
       "    .dataframe tbody tr th {\n",
       "        vertical-align: top;\n",
       "    }\n",
       "\n",
       "    .dataframe thead th {\n",
       "        text-align: right;\n",
       "    }\n",
       "</style>\n",
       "<table border=\"1\" class=\"dataframe\">\n",
       "  <thead>\n",
       "    <tr style=\"text-align: right;\">\n",
       "      <th></th>\n",
       "      <th>Sentences</th>\n",
       "      <th>Label_Task</th>\n",
       "      <th>Estimated_hours</th>\n",
       "    </tr>\n",
       "  </thead>\n",
       "  <tbody>\n",
       "    <tr>\n",
       "      <th>0</th>\n",
       "      <td>Berkoordinasi dengan Dinas Perhubungan setempa...</td>\n",
       "      <td>Analisis Kebutuhan</td>\n",
       "      <td>20</td>\n",
       "    </tr>\n",
       "    <tr>\n",
       "      <th>1</th>\n",
       "      <td>Melakukan analisis pasar untuk mengidentifikas...</td>\n",
       "      <td>Analisis Kebutuhan</td>\n",
       "      <td>20</td>\n",
       "    </tr>\n",
       "    <tr>\n",
       "      <th>2</th>\n",
       "      <td>Melakukan analisis pasar untuk mengidentifikas...</td>\n",
       "      <td>Analisis Kebutuhan</td>\n",
       "      <td>20</td>\n",
       "    </tr>\n",
       "    <tr>\n",
       "      <th>3</th>\n",
       "      <td>Melakukan kunjungan lapangan ke beberapa petan...</td>\n",
       "      <td>Analisis Kebutuhan</td>\n",
       "      <td>20</td>\n",
       "    </tr>\n",
       "    <tr>\n",
       "      <th>4</th>\n",
       "      <td>Melakukan observasi langsung di rumah sakit un...</td>\n",
       "      <td>Analisis Kebutuhan</td>\n",
       "      <td>20</td>\n",
       "    </tr>\n",
       "  </tbody>\n",
       "</table>\n",
       "</div>"
      ],
      "text/plain": [
       "                                           Sentences          Label_Task  \\\n",
       "0  Berkoordinasi dengan Dinas Perhubungan setempa...  Analisis Kebutuhan   \n",
       "1  Melakukan analisis pasar untuk mengidentifikas...  Analisis Kebutuhan   \n",
       "2  Melakukan analisis pasar untuk mengidentifikas...  Analisis Kebutuhan   \n",
       "3  Melakukan kunjungan lapangan ke beberapa petan...  Analisis Kebutuhan   \n",
       "4  Melakukan observasi langsung di rumah sakit un...  Analisis Kebutuhan   \n",
       "\n",
       "   Estimated_hours  \n",
       "0               20  \n",
       "1               20  \n",
       "2               20  \n",
       "3               20  \n",
       "4               20  "
      ]
     },
     "execution_count": 10,
     "metadata": {},
     "output_type": "execute_result"
    }
   ],
   "source": [
    "df = pd.read_csv('dataset5.csv')\n",
    "df.head()"
   ]
  },
  {
   "cell_type": "markdown",
   "id": "2594008c-0e1d-4199-8e9b-b4f1a576a24a",
   "metadata": {},
   "source": [
    "#### Dataset Exploration and Cleaning"
   ]
  },
  {
   "cell_type": "code",
   "execution_count": 11,
   "id": "c329df0c-d0a9-4daa-87e2-e4459d00747f",
   "metadata": {},
   "outputs": [
    {
     "name": "stdout",
     "output_type": "stream",
     "text": [
      "<class 'pandas.core.frame.DataFrame'>\n",
      "RangeIndex: 2300 entries, 0 to 2299\n",
      "Data columns (total 3 columns):\n",
      " #   Column           Non-Null Count  Dtype \n",
      "---  ------           --------------  ----- \n",
      " 0   Sentences        2300 non-null   object\n",
      " 1   Label_Task       2300 non-null   object\n",
      " 2   Estimated_hours  2300 non-null   int64 \n",
      "dtypes: int64(1), object(2)\n",
      "memory usage: 54.0+ KB\n"
     ]
    }
   ],
   "source": [
    "df.info()"
   ]
  },
  {
   "cell_type": "code",
   "execution_count": 12,
   "id": "3fe0fa4a-8470-4d22-9b06-f933122641ef",
   "metadata": {},
   "outputs": [
    {
     "name": "stdout",
     "output_type": "stream",
     "text": [
      "Jumlah duplikasi:  22\n"
     ]
    },
    {
     "data": {
      "text/html": [
       "<div>\n",
       "<style scoped>\n",
       "    .dataframe tbody tr th:only-of-type {\n",
       "        vertical-align: middle;\n",
       "    }\n",
       "\n",
       "    .dataframe tbody tr th {\n",
       "        vertical-align: top;\n",
       "    }\n",
       "\n",
       "    .dataframe thead th {\n",
       "        text-align: right;\n",
       "    }\n",
       "</style>\n",
       "<table border=\"1\" class=\"dataframe\">\n",
       "  <thead>\n",
       "    <tr style=\"text-align: right;\">\n",
       "      <th></th>\n",
       "      <th>Estimated_hours</th>\n",
       "    </tr>\n",
       "  </thead>\n",
       "  <tbody>\n",
       "    <tr>\n",
       "      <th>count</th>\n",
       "      <td>2300.000000</td>\n",
       "    </tr>\n",
       "    <tr>\n",
       "      <th>mean</th>\n",
       "      <td>24.782609</td>\n",
       "    </tr>\n",
       "    <tr>\n",
       "      <th>std</th>\n",
       "      <td>9.266048</td>\n",
       "    </tr>\n",
       "    <tr>\n",
       "      <th>min</th>\n",
       "      <td>10.000000</td>\n",
       "    </tr>\n",
       "    <tr>\n",
       "      <th>25%</th>\n",
       "      <td>20.000000</td>\n",
       "    </tr>\n",
       "    <tr>\n",
       "      <th>50%</th>\n",
       "      <td>20.000000</td>\n",
       "    </tr>\n",
       "    <tr>\n",
       "      <th>75%</th>\n",
       "      <td>30.000000</td>\n",
       "    </tr>\n",
       "    <tr>\n",
       "      <th>max</th>\n",
       "      <td>50.000000</td>\n",
       "    </tr>\n",
       "  </tbody>\n",
       "</table>\n",
       "</div>"
      ],
      "text/plain": [
       "       Estimated_hours\n",
       "count      2300.000000\n",
       "mean         24.782609\n",
       "std           9.266048\n",
       "min          10.000000\n",
       "25%          20.000000\n",
       "50%          20.000000\n",
       "75%          30.000000\n",
       "max          50.000000"
      ]
     },
     "execution_count": 12,
     "metadata": {},
     "output_type": "execute_result"
    }
   ],
   "source": [
    "print(\"Jumlah duplikasi: \",df.duplicated().sum())\n",
    "df.describe()"
   ]
  },
  {
   "cell_type": "code",
   "execution_count": 13,
   "id": "53fc9073-ecdb-4793-a0fd-f0baf7fc3dba",
   "metadata": {},
   "outputs": [
    {
     "name": "stdout",
     "output_type": "stream",
     "text": [
      "Jumlah duplikasi:  0\n"
     ]
    }
   ],
   "source": [
    "df = df.drop_duplicates()\n",
    "print(\"Jumlah duplikasi: \",df.duplicated().sum())"
   ]
  },
  {
   "cell_type": "code",
   "execution_count": 14,
   "id": "0848400f-0d7f-48b3-8fb5-d1a210547ede",
   "metadata": {},
   "outputs": [
    {
     "name": "stdout",
     "output_type": "stream",
     "text": [
      "Label_Task\n",
      "Integrasi API                         100\n",
      "Pengumpulan Data                      100\n",
      "Pengujian Fungsionalitas              100\n",
      "Dokumentasi                           100\n",
      "Backend Development                   100\n",
      "Presentasi dan Demo                   100\n",
      "Pengembangan API                      100\n",
      "Visualisasi Data                      100\n",
      "Evaluasi Model                        100\n",
      "Perancangan Basis Data                100\n",
      "Pengujian dan Perbaikan               100\n",
      "Deployment                            100\n",
      "Pengujian Sistem                      100\n",
      "Pengujian Unit                        100\n",
      "Pengujian Integrasi                    99\n",
      "Pengujian User Acceptance (UAT)        99\n",
      "Integrasi Model                        98\n",
      "Frontend Development                   98\n",
      "Desain UI/UX                           98\n",
      "Analisis Kebutuhan                     98\n",
      "Pembersihan dan Preprocessing Data     97\n",
      "Implementasi Fitur                     97\n",
      "Pembuatan Basis Data                   94\n",
      "Name: count, dtype: int64\n"
     ]
    }
   ],
   "source": [
    "# Drop rows where 'Sentences' column has NaN values\n",
    "df = df.dropna(subset=['Sentences'])\n",
    "\n",
    "# Calculate the counts of each label\n",
    "label_counts = df['Label_Task'].value_counts()\n",
    "print(label_counts.head(26))"
   ]
  },
  {
   "cell_type": "markdown",
   "id": "8c676f2e-cc23-4640-a0b5-504ab19df1c3",
   "metadata": {},
   "source": [
    "## 2. Preprocessing Dataset"
   ]
  },
  {
   "cell_type": "markdown",
   "id": "1e8d6c23-e645-4193-956f-5dc9057dbe16",
   "metadata": {},
   "source": [
    "#### Splitting Data"
   ]
  },
  {
   "cell_type": "code",
   "execution_count": 15,
   "id": "f1bf1dbb-4c44-400f-85e7-607101a3b433",
   "metadata": {},
   "outputs": [
    {
     "name": "stdout",
     "output_type": "stream",
     "text": [
      "Number of training examples: 1822\n",
      "Number of validation examples: 456\n"
     ]
    }
   ],
   "source": [
    "# Filter labels with at least 45 sentences\n",
    "valid_labels = label_counts[label_counts >= 80].index\n",
    "\n",
    "filtered_df = df[df['Label_Task'].isin(valid_labels)]\n",
    "num_classes = filtered_df['Label_Task'].nunique()\n",
    "\n",
    "# Initialize LabelEncoder\n",
    "label_encoder = LabelEncoder()\n",
    "\n",
    "# Fit and transform the labels to integers\n",
    "filtered_df.loc[:, 'Label_Task'] = label_encoder.fit_transform(filtered_df['Label_Task'])\n",
    "\n",
    "# Split the dataset into training and validation sets\n",
    "train_df, val_df = train_test_split(filtered_df, train_size=0.8,stratify=filtered_df['Label_Task'], random_state=42, shuffle=True)\n",
    "\n",
    "# Extract sentences and labels for training\n",
    "train_sentences = train_df['Sentences'].tolist()\n",
    "train_labels = train_df['Label_Task'].tolist()\n",
    "\n",
    "# Extract sentences and labels for validation\n",
    "val_sentences = val_df['Sentences'].tolist()\n",
    "val_labels = val_df['Label_Task'].tolist()\n",
    "\n",
    "# Check the results\n",
    "print(f\"Number of training examples: {len(train_sentences)}\")\n",
    "print(f\"Number of validation examples: {len(val_sentences)}\")\n",
    "\n",
    "# print('First 5 train sentences:\\n', train_sentences[:5])\n",
    "# print('First 5 train labels:\\n', train_labels[:5])\n",
    "\n",
    "# print('First 5 val sentences:\\n', val_sentences[:5])\n",
    "# print('First 5 val labels:\\n', val_labels[:5])"
   ]
  },
  {
   "cell_type": "code",
   "execution_count": 16,
   "id": "0c280564-8c29-49be-a772-e83f621547aa",
   "metadata": {},
   "outputs": [
    {
     "name": "stdout",
     "output_type": "stream",
     "text": [
      "val labels: 23\n"
     ]
    }
   ],
   "source": [
    "print('val labels:',num_classes)"
   ]
  },
  {
   "cell_type": "markdown",
   "id": "4cc0a1a2-07ce-40c1-bd1d-2d3aac41b6e8",
   "metadata": {},
   "source": [
    "#### Lowercase Augmentation"
   ]
  },
  {
   "cell_type": "code",
   "execution_count": 17,
   "id": "48a604b0-ac19-481c-8175-f1c63a6064c3",
   "metadata": {},
   "outputs": [],
   "source": [
    "def lowercase_augmentation(sentences):\n",
    "    augmented_sentences = []\n",
    "    for sentence in sentences:\n",
    "        lowercase_sentence = sentence.lower()\n",
    "        augmented_sentences.append(lowercase_sentence)\n",
    "    return augmented_sentences"
   ]
  },
  {
   "cell_type": "markdown",
   "id": "1de27263-f8db-4b69-a9b4-0187160ac6fe",
   "metadata": {},
   "source": [
    "#### Tokenizer"
   ]
  },
  {
   "cell_type": "code",
   "execution_count": 18,
   "id": "f6dd3e29-7d68-4af5-b228-8ad2400fbb18",
   "metadata": {},
   "outputs": [
    {
     "name": "stdout",
     "output_type": "stream",
     "text": [
      "Training data shape: (1822, 100)\n",
      "Validation data shape: (456, 100)\n",
      "Training labels shape: (1822, 23)\n",
      "Validation labels shape: (456, 23)\n"
     ]
    }
   ],
   "source": [
    "vocab_size = 100000\n",
    "embedding_dim = 16\n",
    "max_length = 100\n",
    "trunc_type='post'\n",
    "padding_type='post'\n",
    "oov_tok = \"<OOV>\"\n",
    "# Melakukan data augmentasi pada data latih dengan mengubah semua kalimat menjadi huruf kecil\n",
    "train_sentences = lowercase_augmentation(train_sentences)\n",
    "val_sentences = lowercase_augmentation(val_sentences)\n",
    "\n",
    "# Tokenize the training sentences\n",
    "tokenizer = Tokenizer(num_words=vocab_size, oov_token=oov_tok)\n",
    "tokenizer.fit_on_texts(train_sentences)\n",
    "word_index = tokenizer.word_index\n",
    "\n",
    "# Create sequences\n",
    "train_sequences = tokenizer.texts_to_sequences(train_sentences)\n",
    "train_padded = pad_sequences(train_sequences, maxlen=max_length, padding=padding_type, truncating=trunc_type)\n",
    "\n",
    "val_sequences = tokenizer.texts_to_sequences(val_sentences)\n",
    "val_padded = pad_sequences(val_sequences, maxlen=max_length, padding=padding_type, truncating=trunc_type)\n",
    "\n",
    "# Convert labels to numpy arrays\n",
    "train_labels = np.array(train_labels)\n",
    "val_labels = np.array(val_labels)\n",
    "\n",
    "# Convert labels to one-hot encoding if using categorical_crossentropy\n",
    "# Ensure labels are converted to one-hot encoding only once\n",
    "if len(train_labels.shape) == 1:\n",
    "    train_labels = to_categorical(train_labels, num_classes)\n",
    "if len(val_labels.shape) == 1:\n",
    "    val_labels = to_categorical(val_labels, num_classes)\n",
    "\n",
    "# Check the shape of the padded sequences and labels\n",
    "print(f\"Training data shape: {train_padded.shape}\")\n",
    "print(f\"Validation data shape: {val_padded.shape}\")\n",
    "print(f\"Training labels shape: {train_labels.shape}\")\n",
    "print(f\"Validation labels shape: {val_labels.shape}\")"
   ]
  },
  {
   "cell_type": "markdown",
   "id": "e961c2b6-2c50-412b-8c3a-90d95e519b03",
   "metadata": {},
   "source": [
    "## 3. Model Building and Training"
   ]
  },
  {
   "cell_type": "code",
   "execution_count": 19,
   "id": "0a80c18f-5e55-4d74-9bb6-b6d6836a073d",
   "metadata": {},
   "outputs": [
    {
     "name": "stderr",
     "output_type": "stream",
     "text": [
      "2024-06-08 09:44:27.357663: I tensorflow/core/platform/cpu_feature_guard.cc:193] This TensorFlow binary is optimized with oneAPI Deep Neural Network Library (oneDNN) to use the following CPU instructions in performance-critical operations:  AVX2 FMA\n",
      "To enable them in other operations, rebuild TensorFlow with the appropriate compiler flags.\n",
      "2024-06-08 09:44:29.671510: I tensorflow/core/common_runtime/gpu/gpu_device.cc:1532] Created device /job:localhost/replica:0/task:0/device:GPU:0 with 51333 MB memory:  -> device: 0, name: NVIDIA A100-SXM4-80GB, pci bus id: 0000:87:00.0, compute capability: 8.0\n"
     ]
    }
   ],
   "source": [
    "model = tf.keras.Sequential([\n",
    "    tf.keras.layers.Embedding(vocab_size, embedding_dim, input_length=max_length),\n",
    "    tf.keras.layers.Conv1D(128, 5, activation='relu'),\n",
    "    tf.keras.layers.GlobalMaxPooling1D(),\n",
    "    tf.keras.layers.Dense(64, activation='relu', kernel_regularizer=tf.keras.regularizers.l2(0.001)),\n",
    "    tf.keras.layers.Dropout(0.5),\n",
    "    tf.keras.layers.Dense(num_classes, activation='softmax')\n",
    "])\n",
    "model.compile(loss='categorical_crossentropy', optimizer=tf.keras.optimizers.Adam(learning_rate=0.001), metrics=['accuracy'])"
   ]
  },
  {
   "cell_type": "code",
   "execution_count": 20,
   "id": "66cb97df-0c5e-4091-b39f-d78952627897",
   "metadata": {},
   "outputs": [
    {
     "name": "stdout",
     "output_type": "stream",
     "text": [
      "Model: \"sequential\"\n",
      "_________________________________________________________________\n",
      " Layer (type)                Output Shape              Param #   \n",
      "=================================================================\n",
      " embedding (Embedding)       (None, 100, 16)           1600000   \n",
      "                                                                 \n",
      " conv1d (Conv1D)             (None, 96, 128)           10368     \n",
      "                                                                 \n",
      " global_max_pooling1d (Globa  (None, 128)              0         \n",
      " lMaxPooling1D)                                                  \n",
      "                                                                 \n",
      " dense (Dense)               (None, 64)                8256      \n",
      "                                                                 \n",
      " dropout (Dropout)           (None, 64)                0         \n",
      "                                                                 \n",
      " dense_1 (Dense)             (None, 23)                1495      \n",
      "                                                                 \n",
      "=================================================================\n",
      "Total params: 1,620,119\n",
      "Trainable params: 1,620,119\n",
      "Non-trainable params: 0\n",
      "_________________________________________________________________\n"
     ]
    }
   ],
   "source": [
    "model.summary()"
   ]
  },
  {
   "cell_type": "markdown",
   "id": "882ec57e-f24e-4332-8101-c5d4b9329d83",
   "metadata": {},
   "source": [
    "#### Model Training"
   ]
  },
  {
   "cell_type": "code",
   "execution_count": 21,
   "id": "018ab7de-9748-45c2-8af7-22fe6e35fee7",
   "metadata": {},
   "outputs": [],
   "source": [
    "def scheduler(epoch, lr):\n",
    "    if epoch < 10:\n",
    "        return lr\n",
    "    else:\n",
    "        return lr * tf.math.exp(-0.1)\n",
    "\n",
    "reduce_lr_callback = tf.keras.callbacks.ReduceLROnPlateau(\n",
    "    monitor='val_loss',\n",
    "    factor=0.2,\n",
    "    patience=5,\n",
    "    min_lr=1e-6\n",
    ")\n",
    "\n",
    "# Define the ModelCheckpoint callback\n",
    "checkpoint_callback = tf.keras.callbacks.ModelCheckpoint(\n",
    "    filepath='best_model.h5',  # Path where the model weights will be saved\n",
    "    monitor='val_loss',        # Metric to monitor\n",
    "    save_best_only=True,       # Save the best model only\n",
    "    save_weights_only=False,   # Save the entire model (including architecture)\n",
    "    mode='min',                # Mode for monitoring ('min' for loss, 'max' for accuracy)\n",
    "    verbose=1                  # Verbosity mode, 1 for progress updates\n",
    ")\n",
    "\n",
    "# Define other callbacks (optional)\n",
    "early_stopping_callback = tf.keras.callbacks.EarlyStopping(\n",
    "    monitor='val_accuracy',\n",
    "    patience=10,\n",
    "    restore_best_weights=True\n",
    ")\n",
    "\n",
    "callback_list = [\n",
    "    reduce_lr_callback,\n",
    "    early_stopping_callback\n",
    "]"
   ]
  },
  {
   "cell_type": "code",
   "execution_count": 22,
   "id": "1b3672d3-e99f-4fe4-bd74-111fd337bc0c",
   "metadata": {
    "tags": []
   },
   "outputs": [
    {
     "name": "stdout",
     "output_type": "stream",
     "text": [
      "Epoch 1/40\n"
     ]
    },
    {
     "name": "stderr",
     "output_type": "stream",
     "text": [
      "2024-06-08 09:44:39.587891: I tensorflow/stream_executor/cuda/cuda_dnn.cc:384] Loaded cuDNN version 8400\n",
      "2024-06-08 09:44:41.539816: I tensorflow/core/platform/default/subprocess.cc:304] Start cannot spawn child process: No such file or directory\n",
      "2024-06-08 09:44:41.540694: I tensorflow/core/platform/default/subprocess.cc:304] Start cannot spawn child process: No such file or directory\n",
      "2024-06-08 09:44:41.540715: W tensorflow/stream_executor/gpu/asm_compiler.cc:80] Couldn't get ptxas version string: INTERNAL: Couldn't invoke ptxas --version\n",
      "2024-06-08 09:44:41.541223: I tensorflow/core/platform/default/subprocess.cc:304] Start cannot spawn child process: No such file or directory\n",
      "2024-06-08 09:44:41.541284: W tensorflow/stream_executor/gpu/redzone_allocator.cc:314] INTERNAL: Failed to launch ptxas\n",
      "Relying on driver to perform ptx compilation. \n",
      "Modify $PATH to customize ptxas location.\n",
      "This message will be only logged once.\n",
      "2024-06-08 09:44:41.701090: I tensorflow/stream_executor/cuda/cuda_blas.cc:1786] TensorFloat-32 will be used for the matrix multiplication. This will only be logged once.\n"
     ]
    },
    {
     "name": "stdout",
     "output_type": "stream",
     "text": [
      "57/57 [==============================] - 11s 54ms/step - loss: 3.2015 - accuracy: 0.0477 - val_loss: 3.1776 - val_accuracy: 0.1053 - lr: 0.0010\n",
      "Epoch 2/40\n",
      "57/57 [==============================] - 2s 43ms/step - loss: 3.1450 - accuracy: 0.1015 - val_loss: 3.0916 - val_accuracy: 0.2259 - lr: 0.0010\n",
      "Epoch 3/40\n",
      "57/57 [==============================] - 2s 44ms/step - loss: 2.9226 - accuracy: 0.2091 - val_loss: 2.6696 - val_accuracy: 0.3531 - lr: 0.0010\n",
      "Epoch 4/40\n",
      "57/57 [==============================] - 2s 43ms/step - loss: 2.3273 - accuracy: 0.3513 - val_loss: 1.8658 - val_accuracy: 0.5877 - lr: 0.0010\n",
      "Epoch 5/40\n",
      "57/57 [==============================] - 3s 47ms/step - loss: 1.7103 - accuracy: 0.5170 - val_loss: 1.3269 - val_accuracy: 0.7390 - lr: 0.0010\n",
      "Epoch 6/40\n",
      "57/57 [==============================] - 3s 56ms/step - loss: 1.2950 - accuracy: 0.6701 - val_loss: 1.0268 - val_accuracy: 0.8158 - lr: 0.0010\n",
      "Epoch 7/40\n",
      "57/57 [==============================] - 2s 44ms/step - loss: 1.0240 - accuracy: 0.7602 - val_loss: 0.8452 - val_accuracy: 0.8202 - lr: 0.0010\n",
      "Epoch 8/40\n",
      "57/57 [==============================] - 3s 45ms/step - loss: 0.7863 - accuracy: 0.8222 - val_loss: 0.7181 - val_accuracy: 0.8443 - lr: 0.0010\n",
      "Epoch 9/40\n",
      "57/57 [==============================] - 2s 44ms/step - loss: 0.6558 - accuracy: 0.8578 - val_loss: 0.6559 - val_accuracy: 0.8377 - lr: 0.0010\n",
      "Epoch 10/40\n",
      "57/57 [==============================] - 2s 42ms/step - loss: 0.5516 - accuracy: 0.8809 - val_loss: 0.6088 - val_accuracy: 0.8487 - lr: 0.0010\n",
      "Epoch 11/40\n",
      "57/57 [==============================] - 2s 42ms/step - loss: 0.4808 - accuracy: 0.9078 - val_loss: 0.5799 - val_accuracy: 0.8596 - lr: 0.0010\n",
      "Epoch 12/40\n",
      "57/57 [==============================] - 2s 43ms/step - loss: 0.4316 - accuracy: 0.9215 - val_loss: 0.5709 - val_accuracy: 0.8596 - lr: 0.0010\n",
      "Epoch 13/40\n",
      "57/57 [==============================] - 2s 43ms/step - loss: 0.3916 - accuracy: 0.9319 - val_loss: 0.5542 - val_accuracy: 0.8553 - lr: 0.0010\n",
      "Epoch 14/40\n",
      "57/57 [==============================] - 2s 43ms/step - loss: 0.3472 - accuracy: 0.9451 - val_loss: 0.5477 - val_accuracy: 0.8640 - lr: 0.0010\n",
      "Epoch 15/40\n",
      "57/57 [==============================] - 2s 43ms/step - loss: 0.3045 - accuracy: 0.9627 - val_loss: 0.5373 - val_accuracy: 0.8750 - lr: 0.0010\n",
      "Epoch 16/40\n",
      "57/57 [==============================] - 3s 44ms/step - loss: 0.2806 - accuracy: 0.9616 - val_loss: 0.5314 - val_accuracy: 0.8750 - lr: 0.0010\n",
      "Epoch 17/40\n",
      "57/57 [==============================] - 3s 45ms/step - loss: 0.2622 - accuracy: 0.9616 - val_loss: 0.5435 - val_accuracy: 0.8684 - lr: 0.0010\n",
      "Epoch 18/40\n",
      "57/57 [==============================] - 3s 45ms/step - loss: 0.2495 - accuracy: 0.9709 - val_loss: 0.5424 - val_accuracy: 0.8706 - lr: 0.0010\n",
      "Epoch 19/40\n",
      "57/57 [==============================] - 3s 44ms/step - loss: 0.2390 - accuracy: 0.9726 - val_loss: 0.5452 - val_accuracy: 0.8684 - lr: 0.0010\n",
      "Epoch 20/40\n",
      "57/57 [==============================] - 3s 44ms/step - loss: 0.2230 - accuracy: 0.9764 - val_loss: 0.5301 - val_accuracy: 0.8684 - lr: 0.0010\n",
      "Epoch 21/40\n",
      "57/57 [==============================] - 2s 42ms/step - loss: 0.2216 - accuracy: 0.9808 - val_loss: 0.5410 - val_accuracy: 0.8794 - lr: 0.0010\n",
      "Epoch 22/40\n",
      "57/57 [==============================] - 2s 43ms/step - loss: 0.2067 - accuracy: 0.9813 - val_loss: 0.5418 - val_accuracy: 0.8728 - lr: 0.0010\n",
      "Epoch 23/40\n",
      "57/57 [==============================] - 2s 43ms/step - loss: 0.2021 - accuracy: 0.9791 - val_loss: 0.5371 - val_accuracy: 0.8750 - lr: 0.0010\n",
      "Epoch 24/40\n",
      "57/57 [==============================] - 2s 44ms/step - loss: 0.1784 - accuracy: 0.9852 - val_loss: 0.5346 - val_accuracy: 0.8750 - lr: 0.0010\n",
      "Epoch 25/40\n",
      "57/57 [==============================] - 2s 43ms/step - loss: 0.1832 - accuracy: 0.9846 - val_loss: 0.5430 - val_accuracy: 0.8772 - lr: 0.0010\n",
      "Epoch 26/40\n",
      "57/57 [==============================] - 2s 43ms/step - loss: 0.1727 - accuracy: 0.9857 - val_loss: 0.5333 - val_accuracy: 0.8728 - lr: 2.0000e-04\n",
      "Epoch 27/40\n",
      "57/57 [==============================] - 3s 43ms/step - loss: 0.1664 - accuracy: 0.9885 - val_loss: 0.5316 - val_accuracy: 0.8772 - lr: 2.0000e-04\n",
      "Epoch 28/40\n",
      "57/57 [==============================] - 3s 45ms/step - loss: 0.1673 - accuracy: 0.9874 - val_loss: 0.5320 - val_accuracy: 0.8750 - lr: 2.0000e-04\n",
      "Epoch 29/40\n",
      "57/57 [==============================] - 2s 42ms/step - loss: 0.1693 - accuracy: 0.9890 - val_loss: 0.5314 - val_accuracy: 0.8750 - lr: 2.0000e-04\n",
      "Epoch 30/40\n",
      "57/57 [==============================] - 2s 40ms/step - loss: 0.1696 - accuracy: 0.9868 - val_loss: 0.5326 - val_accuracy: 0.8728 - lr: 2.0000e-04\n",
      "Epoch 31/40\n",
      "57/57 [==============================] - 2s 43ms/step - loss: 0.1643 - accuracy: 0.9868 - val_loss: 0.5335 - val_accuracy: 0.8728 - lr: 4.0000e-05\n"
     ]
    }
   ],
   "source": [
    "batch_size = 64\n",
    "num_epochs = 40\n",
    "history = model.fit(train_padded, \n",
    "                    train_labels, \n",
    "                    epochs=num_epochs, \n",
    "                    # batch_size=batch_size, \n",
    "                    validation_data=(val_padded, val_labels), \n",
    "                    callbacks=callback_list,\n",
    "                    verbose=1)"
   ]
  },
  {
   "cell_type": "markdown",
   "id": "451d8f28-1bb0-4a87-b46f-8591e43bb082",
   "metadata": {},
   "source": [
    "#### Model Predict"
   ]
  },
  {
   "cell_type": "code",
   "execution_count": 27,
   "id": "279d5be4-3c2c-4ebb-9399-659853d7eb7a",
   "metadata": {},
   "outputs": [
    {
     "name": "stdout",
     "output_type": "stream",
     "text": [
      "1/1 [==============================] - 0s 128ms/step\n",
      "Predicted class indices: [10 10]\n",
      "Predicted class labels: ['Pembersihan dan Preprocessing Data' 'Pembersihan dan Preprocessing Data']\n"
     ]
    }
   ],
   "source": [
    "# Example input sentences\n",
    "new_sentences = [\"Melakukan analisis pasar untuk mengidentifikasi target pelanggan potensial website, serta preferensi mereka dalam berbelanja online.\", \n",
    "                 \"Mengamankan akses ke platform cloud dan aplikasi web dengan menerapkan autentikasi dan otorisasi yang sesuai.\"]\n",
    "\n",
    "new_sentences = [\"buat front end\", \n",
    "                 \"analisis keperluan user\"]\n",
    "# Tokenize the sentences\n",
    "sequences = tokenizer.texts_to_sequences(new_sentences)\n",
    "padded_sequences = pad_sequences(sequences, maxlen=max_length, padding='post', truncating='post')\n",
    "# Make predictions\n",
    "predictions = model.predict(padded_sequences)\n",
    "# Convert predictions to class labels\n",
    "predicted_classes = np.argmax(predictions, axis=1)\n",
    "print(\"Predicted class indices:\", predicted_classes)\n",
    "# Convert numeric labels back to original string labels\n",
    "predicted_labels = label_encoder.inverse_transform(predicted_classes)\n",
    "print(\"Predicted class labels:\", predicted_labels)"
   ]
  },
  {
   "cell_type": "markdown",
   "id": "b8845202-cd34-4e53-a90f-a778ac56f540",
   "metadata": {},
   "source": [
    "#### Model, Tokenizer, and Label Encoder Save"
   ]
  },
  {
   "cell_type": "code",
   "execution_count": 26,
   "id": "5e75b1e7-d448-4d2b-b7e6-ea6c9b5833f8",
   "metadata": {},
   "outputs": [],
   "source": [
    "model.save(\"text_classify.h5\")"
   ]
  },
  {
   "cell_type": "code",
   "execution_count": 29,
   "id": "5eac2ea9-6437-4bb0-9b4b-ad248892b9ac",
   "metadata": {},
   "outputs": [],
   "source": [
    "# Save the tokenizer\n",
    "with open('tokenizer.pkl', 'wb') as handle:\n",
    "    pickle.dump(tokenizer, handle, protocol=pickle.HIGHEST_PROTOCOL)\n",
    "\n",
    "# Save the label encoder\n",
    "with open('label_encoder.pkl', 'wb') as handle:\n",
    "    pickle.dump(label_encoder, handle, protocol=pickle.HIGHEST_PROTOCOL)"
   ]
  },
  {
   "cell_type": "markdown",
   "id": "96266b9a-5c4a-4989-8868-63d590940bdc",
   "metadata": {
    "tags": []
   },
   "source": [
    "## 4. Evaluation"
   ]
  },
  {
   "cell_type": "code",
   "execution_count": 25,
   "id": "83503e58-1677-4233-a5e2-62f34c3d47c3",
   "metadata": {},
   "outputs": [
    {
     "name": "stdout",
     "output_type": "stream",
     "text": [
      "15/15 [==============================] - 0s 10ms/step\n",
      "                                    precision    recall  f1-score   support\n",
      "\n",
      "                Analisis Kebutuhan       0.92      0.63      0.75        19\n",
      "               Backend Development       1.00      0.95      0.97        20\n",
      "                        Deployment       1.00      1.00      1.00        20\n",
      "                      Desain UI/UX       1.00      1.00      1.00        20\n",
      "                       Dokumentasi       0.85      0.85      0.85        20\n",
      "                    Evaluasi Model       0.87      1.00      0.93        20\n",
      "              Frontend Development       0.95      0.95      0.95        20\n",
      "                Implementasi Fitur       0.78      0.95      0.86        19\n",
      "                     Integrasi API       0.76      0.80      0.78        20\n",
      "                   Integrasi Model       1.00      0.95      0.97        20\n",
      "Pembersihan dan Preprocessing Data       0.94      0.84      0.89        19\n",
      "              Pembuatan Basis Data       0.94      0.89      0.92        19\n",
      "                  Pengembangan API       0.85      0.85      0.85        20\n",
      "          Pengujian Fungsionalitas       0.63      0.60      0.62        20\n",
      "               Pengujian Integrasi       1.00      1.00      1.00        20\n",
      "                  Pengujian Sistem       0.64      0.70      0.67        20\n",
      "                    Pengujian Unit       1.00      0.95      0.97        20\n",
      "   Pengujian User Acceptance (UAT)       0.94      0.85      0.89        20\n",
      "           Pengujian dan Perbaikan       0.82      0.70      0.76        20\n",
      "                  Pengumpulan Data       0.78      0.90      0.84        20\n",
      "            Perancangan Basis Data       0.90      0.95      0.93        20\n",
      "               Presentasi dan Demo       0.83      1.00      0.91        20\n",
      "                  Visualisasi Data       0.90      0.90      0.90        20\n",
      "\n",
      "                          accuracy                           0.88       456\n",
      "                         macro avg       0.88      0.88      0.88       456\n",
      "                      weighted avg       0.88      0.88      0.88       456\n",
      "\n"
     ]
    },
    {
     "data": {
      "image/png": "[encoded data removed]",
      "text/plain": [
       "<Figure size 1200x600 with 2 Axes>"
      ]
     },
     "metadata": {},
     "output_type": "display_data"
    }
   ],
   "source": [
    "import numpy as np\n",
    "from sklearn.metrics import classification_report\n",
    "import matplotlib.pyplot as plt\n",
    "\n",
    "# Predict on validation data\n",
    "predictions = model.predict(val_padded)\n",
    "y_true = np.argmax(val_labels, axis=1)\n",
    "y_pred = np.argmax(predictions, axis=1)\n",
    "\n",
    "# Ensure the number of classes match\n",
    "unique_labels = np.unique(y_true)\n",
    "target_names = [label_encoder.inverse_transform([i])[0] for i in unique_labels]\n",
    "\n",
    "# Generate classification report\n",
    "report = classification_report(y_true, y_pred, target_names=target_names, zero_division=0)\n",
    "\n",
    "# Print classification report\n",
    "print(report)\n",
    "\n",
    "# Plot the results\n",
    "acc = history.history['accuracy']\n",
    "val_acc = history.history['val_accuracy']\n",
    "loss = history.history['loss']\n",
    "val_loss = history.history['val_loss']\n",
    "\n",
    "epochs = range(len(acc))\n",
    "\n",
    "plt.figure(figsize=(12, 6))\n",
    "\n",
    "plt.subplot(1, 2, 1)\n",
    "plt.plot(epochs, loss, 'r', label='Training loss')\n",
    "plt.plot(epochs, val_loss, 'b', label='Validation loss')\n",
    "plt.title('Training and Validation Loss')\n",
    "plt.xlabel('Epochs')\n",
    "plt.ylabel('Loss')\n",
    "plt.legend()\n",
    "\n",
    "plt.subplot(1, 2, 2)\n",
    "plt.plot(epochs, acc, 'r', label='Training accuracy')\n",
    "plt.plot(epochs, val_acc, 'b', label='Validation accuracy')\n",
    "plt.title('Training and Validation Accuracy')\n",
    "plt.xlabel('Epochs')\n",
    "plt.ylabel('Accuracy')\n",
    "plt.legend()\n",
    "\n",
    "plt.tight_layout()\n",
    "plt.show()\n"
   ]
  }
 ],
 "metadata": {
  "kernelspec": {
   "display_name": "Python 3.9(haidarenv)",
   "language": "python",
   "name": "haidarenv"
  },
  "language_info": {
   "codemirror_mode": {
    "name": "ipython",
    "version": 3
   },
   "file_extension": ".py",
   "mimetype": "text/x-python",
   "name": "python",
   "nbconvert_exporter": "python",
   "pygments_lexer": "ipython3",
   "version": "3.9.19"
  }
 },
 "nbformat": 4,
 "nbformat_minor": 5
}
